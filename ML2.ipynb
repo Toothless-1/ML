{
  "nbformat": 4,
  "nbformat_minor": 0,
  "metadata": {
    "colab": {
      "provenance": [],
      "authorship_tag": "ABX9TyNDvkRcG92TVftKpW4LgJsf"
    },
    "kernelspec": {
      "name": "python3",
      "display_name": "Python 3"
    },
    "language_info": {
      "name": "python"
    }
  },
  "cells": [
    {
      "cell_type": "markdown",
      "source": [
        "Шаг 1: Загрузка данных. Загрузите датасет, содержащий числовые\n",
        "признаки (например, Boston Housing, California Housing или другой\n",
        "подходящий из UCI или Kaggle). Импортируйте необходимые библиотеки для\n",
        "работы с данными, визуализацией и анализом. Загрузите данные в DataFrame\n",
        "и просмотрите первые строки, чтобы ознакомиться с набором данных."
      ],
      "metadata": {
        "id": "j0Q7kLVPPN4r"
      }
    },
    {
      "cell_type": "code",
      "execution_count": null,
      "metadata": {
        "colab": {
          "base_uri": "https://localhost:8080/"
        },
        "id": "8pCbCPhE8r4D",
        "outputId": "43239a28-6c0c-41ac-d465-4f5154e763f8"
      },
      "outputs": [
        {
          "output_type": "stream",
          "name": "stdout",
          "text": [
            "Drive already mounted at /content/drive/; to attempt to forcibly remount, call drive.mount(\"/content/drive/\", force_remount=True).\n",
            "/content/drive/My Drive\n"
          ]
        }
      ],
      "source": [
        "from google.colab import drive\n",
        "drive.mount('/content/drive/')\n",
        "%cd /content/drive/My Drive/"
      ]
    },
    {
      "cell_type": "code",
      "source": [
        "import numpy as np\n",
        "import pandas as pd\n",
        "import matplotlib.pyplot as plt"
      ],
      "metadata": {
        "id": "PyphofeVAFNt"
      },
      "execution_count": null,
      "outputs": []
    },
    {
      "cell_type": "code",
      "source": [
        "data = pd.read_csv(\"Cost_of_Living_Index_by_Country_2024.csv\")"
      ],
      "metadata": {
        "id": "EoK53LbE_v7f"
      },
      "execution_count": null,
      "outputs": []
    },
    {
      "cell_type": "markdown",
      "source": [
        "The cost of living indices provided on this website are relative to New York City (NYC), with a baseline index of 100% for NYC.\n",
        "\n",
        "Here's a breakdown of each index and its meaning:\n",
        "\n",
        "\n",
        "1.   Cost of Living Index (Excl. Rent): This index indicates the relative prices of consumer goods like groceries, restaurants, transportation, and utilities. It excludes accommodation expenses such as rent or mortgage. For instance, a city with a Cost of Living Index of 120 is estimated to be 20% more expensive than New York City (excluding rent).\n",
        "2.   Rent Index: This index estimates the prices of renting apartments in a city compared to New York City. If the Rent Index is 80, it suggests that the average rental prices in that city are approximately 20% lower than those in New York City.\n",
        "3. Groceries Index: This index provides an estimation of grocery prices in a city relative to New York City. Numbeo uses item weights from the \"Markets\" section to calculate this index for each city.\n",
        "4. Restaurants Index: This index compares the prices of meals and drinks in restaurants and bars to those in NYC.\n",
        "5. Cost of Living Plus Rent Index: This index estimates consumer goods prices, including rent, in comparison to New York City.\n",
        "6. Local Purchasing Power: This index indicates the relative purchasing power in a given city based on the average net salary. A domestic purchasing power of 40 means that residents with an average salary can afford, on average, 60% less goods and services compared to residents of New York City with an average salary.\n",
        "\n",
        "\n"
      ],
      "metadata": {
        "id": "umFhlgCyR5dE"
      }
    },
    {
      "cell_type": "code",
      "source": [
        "data.head(4)"
      ],
      "metadata": {
        "colab": {
          "base_uri": "https://localhost:8080/",
          "height": 175
        },
        "id": "omZOtsQXPgaA",
        "outputId": "a1ecf405-012d-472c-a5d7-40c3e74329e0"
      },
      "execution_count": null,
      "outputs": [
        {
          "output_type": "execute_result",
          "data": {
            "text/plain": [
              "   Rank      Country  Cost of Living Index  Rent Index  \\\n",
              "0     1  Switzerland                 101.1        46.5   \n",
              "1     2      Bahamas                  85.0        36.7   \n",
              "2     3      Iceland                  83.0        39.2   \n",
              "3     4    Singapore                  76.7        67.2   \n",
              "\n",
              "   Cost of Living Plus Rent Index  Groceries Index  Restaurant Price Index  \\\n",
              "0                            74.9            109.1                    97.0   \n",
              "1                            61.8             81.6                    83.3   \n",
              "2                            62.0             88.4                    86.8   \n",
              "3                            72.1             74.6                    50.4   \n",
              "\n",
              "   Local Purchasing Power Index  \n",
              "0                         158.7  \n",
              "1                          54.6  \n",
              "2                         120.3  \n",
              "3                         111.1  "
            ],
            "text/html": [
              "\n",
              "  <div id=\"df-4fc28218-c59f-4dff-a759-74654232d1a8\" class=\"colab-df-container\">\n",
              "    <div>\n",
              "<style scoped>\n",
              "    .dataframe tbody tr th:only-of-type {\n",
              "        vertical-align: middle;\n",
              "    }\n",
              "\n",
              "    .dataframe tbody tr th {\n",
              "        vertical-align: top;\n",
              "    }\n",
              "\n",
              "    .dataframe thead th {\n",
              "        text-align: right;\n",
              "    }\n",
              "</style>\n",
              "<table border=\"1\" class=\"dataframe\">\n",
              "  <thead>\n",
              "    <tr style=\"text-align: right;\">\n",
              "      <th></th>\n",
              "      <th>Rank</th>\n",
              "      <th>Country</th>\n",
              "      <th>Cost of Living Index</th>\n",
              "      <th>Rent Index</th>\n",
              "      <th>Cost of Living Plus Rent Index</th>\n",
              "      <th>Groceries Index</th>\n",
              "      <th>Restaurant Price Index</th>\n",
              "      <th>Local Purchasing Power Index</th>\n",
              "    </tr>\n",
              "  </thead>\n",
              "  <tbody>\n",
              "    <tr>\n",
              "      <th>0</th>\n",
              "      <td>1</td>\n",
              "      <td>Switzerland</td>\n",
              "      <td>101.1</td>\n",
              "      <td>46.5</td>\n",
              "      <td>74.9</td>\n",
              "      <td>109.1</td>\n",
              "      <td>97.0</td>\n",
              "      <td>158.7</td>\n",
              "    </tr>\n",
              "    <tr>\n",
              "      <th>1</th>\n",
              "      <td>2</td>\n",
              "      <td>Bahamas</td>\n",
              "      <td>85.0</td>\n",
              "      <td>36.7</td>\n",
              "      <td>61.8</td>\n",
              "      <td>81.6</td>\n",
              "      <td>83.3</td>\n",
              "      <td>54.6</td>\n",
              "    </tr>\n",
              "    <tr>\n",
              "      <th>2</th>\n",
              "      <td>3</td>\n",
              "      <td>Iceland</td>\n",
              "      <td>83.0</td>\n",
              "      <td>39.2</td>\n",
              "      <td>62.0</td>\n",
              "      <td>88.4</td>\n",
              "      <td>86.8</td>\n",
              "      <td>120.3</td>\n",
              "    </tr>\n",
              "    <tr>\n",
              "      <th>3</th>\n",
              "      <td>4</td>\n",
              "      <td>Singapore</td>\n",
              "      <td>76.7</td>\n",
              "      <td>67.2</td>\n",
              "      <td>72.1</td>\n",
              "      <td>74.6</td>\n",
              "      <td>50.4</td>\n",
              "      <td>111.1</td>\n",
              "    </tr>\n",
              "  </tbody>\n",
              "</table>\n",
              "</div>\n",
              "    <div class=\"colab-df-buttons\">\n",
              "\n",
              "  <div class=\"colab-df-container\">\n",
              "    <button class=\"colab-df-convert\" onclick=\"convertToInteractive('df-4fc28218-c59f-4dff-a759-74654232d1a8')\"\n",
              "            title=\"Convert this dataframe to an interactive table.\"\n",
              "            style=\"display:none;\">\n",
              "\n",
              "  <svg xmlns=\"http://www.w3.org/2000/svg\" height=\"24px\" viewBox=\"0 -960 960 960\">\n",
              "    <path d=\"M120-120v-720h720v720H120Zm60-500h600v-160H180v160Zm220 220h160v-160H400v160Zm0 220h160v-160H400v160ZM180-400h160v-160H180v160Zm440 0h160v-160H620v160ZM180-180h160v-160H180v160Zm440 0h160v-160H620v160Z\"/>\n",
              "  </svg>\n",
              "    </button>\n",
              "\n",
              "  <style>\n",
              "    .colab-df-container {\n",
              "      display:flex;\n",
              "      gap: 12px;\n",
              "    }\n",
              "\n",
              "    .colab-df-convert {\n",
              "      background-color: #E8F0FE;\n",
              "      border: none;\n",
              "      border-radius: 50%;\n",
              "      cursor: pointer;\n",
              "      display: none;\n",
              "      fill: #1967D2;\n",
              "      height: 32px;\n",
              "      padding: 0 0 0 0;\n",
              "      width: 32px;\n",
              "    }\n",
              "\n",
              "    .colab-df-convert:hover {\n",
              "      background-color: #E2EBFA;\n",
              "      box-shadow: 0px 1px 2px rgba(60, 64, 67, 0.3), 0px 1px 3px 1px rgba(60, 64, 67, 0.15);\n",
              "      fill: #174EA6;\n",
              "    }\n",
              "\n",
              "    .colab-df-buttons div {\n",
              "      margin-bottom: 4px;\n",
              "    }\n",
              "\n",
              "    [theme=dark] .colab-df-convert {\n",
              "      background-color: #3B4455;\n",
              "      fill: #D2E3FC;\n",
              "    }\n",
              "\n",
              "    [theme=dark] .colab-df-convert:hover {\n",
              "      background-color: #434B5C;\n",
              "      box-shadow: 0px 1px 3px 1px rgba(0, 0, 0, 0.15);\n",
              "      filter: drop-shadow(0px 1px 2px rgba(0, 0, 0, 0.3));\n",
              "      fill: #FFFFFF;\n",
              "    }\n",
              "  </style>\n",
              "\n",
              "    <script>\n",
              "      const buttonEl =\n",
              "        document.querySelector('#df-4fc28218-c59f-4dff-a759-74654232d1a8 button.colab-df-convert');\n",
              "      buttonEl.style.display =\n",
              "        google.colab.kernel.accessAllowed ? 'block' : 'none';\n",
              "\n",
              "      async function convertToInteractive(key) {\n",
              "        const element = document.querySelector('#df-4fc28218-c59f-4dff-a759-74654232d1a8');\n",
              "        const dataTable =\n",
              "          await google.colab.kernel.invokeFunction('convertToInteractive',\n",
              "                                                    [key], {});\n",
              "        if (!dataTable) return;\n",
              "\n",
              "        const docLinkHtml = 'Like what you see? Visit the ' +\n",
              "          '<a target=\"_blank\" href=https://colab.research.google.com/notebooks/data_table.ipynb>data table notebook</a>'\n",
              "          + ' to learn more about interactive tables.';\n",
              "        element.innerHTML = '';\n",
              "        dataTable['output_type'] = 'display_data';\n",
              "        await google.colab.output.renderOutput(dataTable, element);\n",
              "        const docLink = document.createElement('div');\n",
              "        docLink.innerHTML = docLinkHtml;\n",
              "        element.appendChild(docLink);\n",
              "      }\n",
              "    </script>\n",
              "  </div>\n",
              "\n",
              "\n",
              "<div id=\"df-ace50157-c14e-45ed-aa1b-10dd7cf9dede\">\n",
              "  <button class=\"colab-df-quickchart\" onclick=\"quickchart('df-ace50157-c14e-45ed-aa1b-10dd7cf9dede')\"\n",
              "            title=\"Suggest charts\"\n",
              "            style=\"display:none;\">\n",
              "\n",
              "<svg xmlns=\"http://www.w3.org/2000/svg\" height=\"24px\"viewBox=\"0 0 24 24\"\n",
              "     width=\"24px\">\n",
              "    <g>\n",
              "        <path d=\"M19 3H5c-1.1 0-2 .9-2 2v14c0 1.1.9 2 2 2h14c1.1 0 2-.9 2-2V5c0-1.1-.9-2-2-2zM9 17H7v-7h2v7zm4 0h-2V7h2v10zm4 0h-2v-4h2v4z\"/>\n",
              "    </g>\n",
              "</svg>\n",
              "  </button>\n",
              "\n",
              "<style>\n",
              "  .colab-df-quickchart {\n",
              "      --bg-color: #E8F0FE;\n",
              "      --fill-color: #1967D2;\n",
              "      --hover-bg-color: #E2EBFA;\n",
              "      --hover-fill-color: #174EA6;\n",
              "      --disabled-fill-color: #AAA;\n",
              "      --disabled-bg-color: #DDD;\n",
              "  }\n",
              "\n",
              "  [theme=dark] .colab-df-quickchart {\n",
              "      --bg-color: #3B4455;\n",
              "      --fill-color: #D2E3FC;\n",
              "      --hover-bg-color: #434B5C;\n",
              "      --hover-fill-color: #FFFFFF;\n",
              "      --disabled-bg-color: #3B4455;\n",
              "      --disabled-fill-color: #666;\n",
              "  }\n",
              "\n",
              "  .colab-df-quickchart {\n",
              "    background-color: var(--bg-color);\n",
              "    border: none;\n",
              "    border-radius: 50%;\n",
              "    cursor: pointer;\n",
              "    display: none;\n",
              "    fill: var(--fill-color);\n",
              "    height: 32px;\n",
              "    padding: 0;\n",
              "    width: 32px;\n",
              "  }\n",
              "\n",
              "  .colab-df-quickchart:hover {\n",
              "    background-color: var(--hover-bg-color);\n",
              "    box-shadow: 0 1px 2px rgba(60, 64, 67, 0.3), 0 1px 3px 1px rgba(60, 64, 67, 0.15);\n",
              "    fill: var(--button-hover-fill-color);\n",
              "  }\n",
              "\n",
              "  .colab-df-quickchart-complete:disabled,\n",
              "  .colab-df-quickchart-complete:disabled:hover {\n",
              "    background-color: var(--disabled-bg-color);\n",
              "    fill: var(--disabled-fill-color);\n",
              "    box-shadow: none;\n",
              "  }\n",
              "\n",
              "  .colab-df-spinner {\n",
              "    border: 2px solid var(--fill-color);\n",
              "    border-color: transparent;\n",
              "    border-bottom-color: var(--fill-color);\n",
              "    animation:\n",
              "      spin 1s steps(1) infinite;\n",
              "  }\n",
              "\n",
              "  @keyframes spin {\n",
              "    0% {\n",
              "      border-color: transparent;\n",
              "      border-bottom-color: var(--fill-color);\n",
              "      border-left-color: var(--fill-color);\n",
              "    }\n",
              "    20% {\n",
              "      border-color: transparent;\n",
              "      border-left-color: var(--fill-color);\n",
              "      border-top-color: var(--fill-color);\n",
              "    }\n",
              "    30% {\n",
              "      border-color: transparent;\n",
              "      border-left-color: var(--fill-color);\n",
              "      border-top-color: var(--fill-color);\n",
              "      border-right-color: var(--fill-color);\n",
              "    }\n",
              "    40% {\n",
              "      border-color: transparent;\n",
              "      border-right-color: var(--fill-color);\n",
              "      border-top-color: var(--fill-color);\n",
              "    }\n",
              "    60% {\n",
              "      border-color: transparent;\n",
              "      border-right-color: var(--fill-color);\n",
              "    }\n",
              "    80% {\n",
              "      border-color: transparent;\n",
              "      border-right-color: var(--fill-color);\n",
              "      border-bottom-color: var(--fill-color);\n",
              "    }\n",
              "    90% {\n",
              "      border-color: transparent;\n",
              "      border-bottom-color: var(--fill-color);\n",
              "    }\n",
              "  }\n",
              "</style>\n",
              "\n",
              "  <script>\n",
              "    async function quickchart(key) {\n",
              "      const quickchartButtonEl =\n",
              "        document.querySelector('#' + key + ' button');\n",
              "      quickchartButtonEl.disabled = true;  // To prevent multiple clicks.\n",
              "      quickchartButtonEl.classList.add('colab-df-spinner');\n",
              "      try {\n",
              "        const charts = await google.colab.kernel.invokeFunction(\n",
              "            'suggestCharts', [key], {});\n",
              "      } catch (error) {\n",
              "        console.error('Error during call to suggestCharts:', error);\n",
              "      }\n",
              "      quickchartButtonEl.classList.remove('colab-df-spinner');\n",
              "      quickchartButtonEl.classList.add('colab-df-quickchart-complete');\n",
              "    }\n",
              "    (() => {\n",
              "      let quickchartButtonEl =\n",
              "        document.querySelector('#df-ace50157-c14e-45ed-aa1b-10dd7cf9dede button');\n",
              "      quickchartButtonEl.style.display =\n",
              "        google.colab.kernel.accessAllowed ? 'block' : 'none';\n",
              "    })();\n",
              "  </script>\n",
              "</div>\n",
              "    </div>\n",
              "  </div>\n"
            ],
            "application/vnd.google.colaboratory.intrinsic+json": {
              "type": "dataframe",
              "variable_name": "data",
              "summary": "{\n  \"name\": \"data\",\n  \"rows\": 121,\n  \"fields\": [\n    {\n      \"column\": \"Rank\",\n      \"properties\": {\n        \"dtype\": \"number\",\n        \"std\": 35,\n        \"min\": 1,\n        \"max\": 121,\n        \"num_unique_values\": 121,\n        \"samples\": [\n          45,\n          48,\n          5\n        ],\n        \"semantic_type\": \"\",\n        \"description\": \"\"\n      }\n    },\n    {\n      \"column\": \"Country\",\n      \"properties\": {\n        \"dtype\": \"string\",\n        \"num_unique_values\": 121,\n        \"samples\": [\n          \"Panama\",\n          \"Saudi Arabia\",\n          \"Barbados\"\n        ],\n        \"semantic_type\": \"\",\n        \"description\": \"\"\n      }\n    },\n    {\n      \"column\": \"Cost of Living Index\",\n      \"properties\": {\n        \"dtype\": \"number\",\n        \"std\": 16.147574381380128,\n        \"min\": 18.8,\n        \"max\": 101.1,\n        \"num_unique_values\": 107,\n        \"samples\": [\n          32.6,\n          65.1,\n          76.6\n        ],\n        \"semantic_type\": \"\",\n        \"description\": \"\"\n      }\n    },\n    {\n      \"column\": \"Rent Index\",\n      \"properties\": {\n        \"dtype\": \"number\",\n        \"std\": 11.412267335198012,\n        \"min\": 2.4,\n        \"max\": 67.2,\n        \"num_unique_values\": 99,\n        \"samples\": [\n          13.2,\n          15.6,\n          8.4\n        ],\n        \"semantic_type\": \"\",\n        \"description\": \"\"\n      }\n    },\n    {\n      \"column\": \"Cost of Living Plus Rent Index\",\n      \"properties\": {\n        \"dtype\": \"number\",\n        \"std\": 13.263720896152002,\n        \"min\": 11.1,\n        \"max\": 74.9,\n        \"num_unique_values\": 104,\n        \"samples\": [\n          37.0,\n          27.5,\n          24.0\n        ],\n        \"semantic_type\": \"\",\n        \"description\": \"\"\n      }\n    },\n    {\n      \"column\": \"Groceries Index\",\n      \"properties\": {\n        \"dtype\": \"number\",\n        \"std\": 17.05510890230319,\n        \"min\": 17.5,\n        \"max\": 109.1,\n        \"num_unique_values\": 104,\n        \"samples\": [\n          56.1,\n          35.5,\n          34.6\n        ],\n        \"semantic_type\": \"\",\n        \"description\": \"\"\n      }\n    },\n    {\n      \"column\": \"Restaurant Price Index\",\n      \"properties\": {\n        \"dtype\": \"number\",\n        \"std\": 18.258109787235778,\n        \"min\": 12.8,\n        \"max\": 97.0,\n        \"num_unique_values\": 112,\n        \"samples\": [\n          43.5,\n          30.7,\n          69.4\n        ],\n        \"semantic_type\": \"\",\n        \"description\": \"\"\n      }\n    },\n    {\n      \"column\": \"Local Purchasing Power Index\",\n      \"properties\": {\n        \"dtype\": \"number\",\n        \"std\": 39.5690942056227,\n        \"min\": 2.3,\n        \"max\": 182.5,\n        \"num_unique_values\": 117,\n        \"samples\": [\n          117.0,\n          43.5,\n          63.4\n        ],\n        \"semantic_type\": \"\",\n        \"description\": \"\"\n      }\n    }\n  ]\n}"
            }
          },
          "metadata": {},
          "execution_count": 4
        }
      ]
    },
    {
      "cell_type": "code",
      "source": [
        "data.dtypes"
      ],
      "metadata": {
        "colab": {
          "base_uri": "https://localhost:8080/",
          "height": 335
        },
        "id": "34gxbbt9PkJw",
        "outputId": "427aa431-01cf-4f39-9c81-ba9cb566ec68"
      },
      "execution_count": null,
      "outputs": [
        {
          "output_type": "execute_result",
          "data": {
            "text/plain": [
              "Rank                                int64\n",
              "Country                            object\n",
              "Cost of Living Index              float64\n",
              "Rent Index                        float64\n",
              "Cost of Living Plus Rent Index    float64\n",
              "Groceries Index                   float64\n",
              "Restaurant Price Index            float64\n",
              "Local Purchasing Power Index      float64\n",
              "dtype: object"
            ],
            "text/html": [
              "<div>\n",
              "<style scoped>\n",
              "    .dataframe tbody tr th:only-of-type {\n",
              "        vertical-align: middle;\n",
              "    }\n",
              "\n",
              "    .dataframe tbody tr th {\n",
              "        vertical-align: top;\n",
              "    }\n",
              "\n",
              "    .dataframe thead th {\n",
              "        text-align: right;\n",
              "    }\n",
              "</style>\n",
              "<table border=\"1\" class=\"dataframe\">\n",
              "  <thead>\n",
              "    <tr style=\"text-align: right;\">\n",
              "      <th></th>\n",
              "      <th>0</th>\n",
              "    </tr>\n",
              "  </thead>\n",
              "  <tbody>\n",
              "    <tr>\n",
              "      <th>Rank</th>\n",
              "      <td>int64</td>\n",
              "    </tr>\n",
              "    <tr>\n",
              "      <th>Country</th>\n",
              "      <td>object</td>\n",
              "    </tr>\n",
              "    <tr>\n",
              "      <th>Cost of Living Index</th>\n",
              "      <td>float64</td>\n",
              "    </tr>\n",
              "    <tr>\n",
              "      <th>Rent Index</th>\n",
              "      <td>float64</td>\n",
              "    </tr>\n",
              "    <tr>\n",
              "      <th>Cost of Living Plus Rent Index</th>\n",
              "      <td>float64</td>\n",
              "    </tr>\n",
              "    <tr>\n",
              "      <th>Groceries Index</th>\n",
              "      <td>float64</td>\n",
              "    </tr>\n",
              "    <tr>\n",
              "      <th>Restaurant Price Index</th>\n",
              "      <td>float64</td>\n",
              "    </tr>\n",
              "    <tr>\n",
              "      <th>Local Purchasing Power Index</th>\n",
              "      <td>float64</td>\n",
              "    </tr>\n",
              "  </tbody>\n",
              "</table>\n",
              "</div><br><label><b>dtype:</b> object</label>"
            ]
          },
          "metadata": {},
          "execution_count": 5
        }
      ]
    },
    {
      "cell_type": "markdown",
      "source": [
        "Шаг 2: Исследование корреляций. Постройте корреляционную матрицу\n",
        "для числовых признаков. Визуализируйте корреляционную матрицу с\n",
        "помощью тепловой карты (heatmap). Определите пары признаков с\n",
        "наибольшей и наименьшей корреляцией. Для этого найдите максимальные и\n",
        "минимальные значения в корреляционной матрице, исключив диагональные\n",
        "элементы."
      ],
      "metadata": {
        "id": "DLv1TQHFQQ0x"
      }
    },
    {
      "cell_type": "code",
      "source": [
        "corr_matrix_spearman = data.select_dtypes(include='number').corr(method = 'spearman').round(2)\n",
        "corr_matrix_pearson = data.select_dtypes(include='number').corr(method = 'pearson').round(2)"
      ],
      "metadata": {
        "id": "9Ver58ylQSwh"
      },
      "execution_count": null,
      "outputs": []
    },
    {
      "cell_type": "code",
      "source": [
        "corr_matrix_pearson.style.background_gradient() #Показывает линейность взаимодействия"
      ],
      "metadata": {
        "colab": {
          "base_uri": "https://localhost:8080/",
          "height": 269
        },
        "id": "m--dH3P2RX4B",
        "outputId": "18b7c9c5-1e31-490b-f533-94cea3f63d51"
      },
      "execution_count": null,
      "outputs": [
        {
          "output_type": "execute_result",
          "data": {
            "text/plain": [
              "<pandas.io.formats.style.Styler at 0x7ad18bf90eb0>"
            ],
            "text/html": [
              "<style type=\"text/css\">\n",
              "#T_25b52_row0_col0, #T_25b52_row1_col1, #T_25b52_row2_col2, #T_25b52_row3_col3, #T_25b52_row4_col4, #T_25b52_row5_col5, #T_25b52_row6_col6 {\n",
              "  background-color: #023858;\n",
              "  color: #f1f1f1;\n",
              "}\n",
              "#T_25b52_row0_col1, #T_25b52_row0_col2, #T_25b52_row0_col3, #T_25b52_row0_col4, #T_25b52_row0_col5, #T_25b52_row0_col6, #T_25b52_row1_col0 {\n",
              "  background-color: #fff7fb;\n",
              "  color: #000000;\n",
              "}\n",
              "#T_25b52_row1_col2 {\n",
              "  background-color: #045483;\n",
              "  color: #f1f1f1;\n",
              "}\n",
              "#T_25b52_row1_col3, #T_25b52_row3_col1 {\n",
              "  background-color: #023b5d;\n",
              "  color: #f1f1f1;\n",
              "}\n",
              "#T_25b52_row1_col4, #T_25b52_row4_col1 {\n",
              "  background-color: #023d60;\n",
              "  color: #f1f1f1;\n",
              "}\n",
              "#T_25b52_row1_col5, #T_25b52_row5_col1 {\n",
              "  background-color: #023e62;\n",
              "  color: #f1f1f1;\n",
              "}\n",
              "#T_25b52_row1_col6, #T_25b52_row6_col2 {\n",
              "  background-color: #04649d;\n",
              "  color: #f1f1f1;\n",
              "}\n",
              "#T_25b52_row2_col0 {\n",
              "  background-color: #f1ebf4;\n",
              "  color: #000000;\n",
              "}\n",
              "#T_25b52_row2_col1 {\n",
              "  background-color: #03517e;\n",
              "  color: #f1f1f1;\n",
              "}\n",
              "#T_25b52_row2_col3 {\n",
              "  background-color: #034267;\n",
              "  color: #f1f1f1;\n",
              "}\n",
              "#T_25b52_row2_col4 {\n",
              "  background-color: #04588a;\n",
              "  color: #f1f1f1;\n",
              "}\n",
              "#T_25b52_row2_col5 {\n",
              "  background-color: #045a8d;\n",
              "  color: #f1f1f1;\n",
              "}\n",
              "#T_25b52_row2_col6, #T_25b52_row6_col4 {\n",
              "  background-color: #05659f;\n",
              "  color: #f1f1f1;\n",
              "}\n",
              "#T_25b52_row3_col0 {\n",
              "  background-color: #fcf4fa;\n",
              "  color: #000000;\n",
              "}\n",
              "#T_25b52_row3_col2, #T_25b52_row3_col4, #T_25b52_row4_col3 {\n",
              "  background-color: #034369;\n",
              "  color: #f1f1f1;\n",
              "}\n",
              "#T_25b52_row3_col5 {\n",
              "  background-color: #03456c;\n",
              "  color: #f1f1f1;\n",
              "}\n",
              "#T_25b52_row3_col6 {\n",
              "  background-color: #046198;\n",
              "  color: #f1f1f1;\n",
              "}\n",
              "#T_25b52_row4_col0, #T_25b52_row5_col0 {\n",
              "  background-color: #fbf3f9;\n",
              "  color: #000000;\n",
              "}\n",
              "#T_25b52_row4_col2 {\n",
              "  background-color: #045b8e;\n",
              "  color: #f1f1f1;\n",
              "}\n",
              "#T_25b52_row4_col5, #T_25b52_row5_col4 {\n",
              "  background-color: #034b76;\n",
              "  color: #f1f1f1;\n",
              "}\n",
              "#T_25b52_row4_col6 {\n",
              "  background-color: #0569a5;\n",
              "  color: #f1f1f1;\n",
              "}\n",
              "#T_25b52_row5_col2 {\n",
              "  background-color: #045b8f;\n",
              "  color: #f1f1f1;\n",
              "}\n",
              "#T_25b52_row5_col3 {\n",
              "  background-color: #03446a;\n",
              "  color: #f1f1f1;\n",
              "}\n",
              "#T_25b52_row5_col6 {\n",
              "  background-color: #0566a0;\n",
              "  color: #f1f1f1;\n",
              "}\n",
              "#T_25b52_row6_col0 {\n",
              "  background-color: #e9e5f1;\n",
              "  color: #000000;\n",
              "}\n",
              "#T_25b52_row6_col1 {\n",
              "  background-color: #046096;\n",
              "  color: #f1f1f1;\n",
              "}\n",
              "#T_25b52_row6_col3 {\n",
              "  background-color: #045e93;\n",
              "  color: #f1f1f1;\n",
              "}\n",
              "#T_25b52_row6_col5 {\n",
              "  background-color: #04629a;\n",
              "  color: #f1f1f1;\n",
              "}\n",
              "</style>\n",
              "<table id=\"T_25b52\" class=\"dataframe\">\n",
              "  <thead>\n",
              "    <tr>\n",
              "      <th class=\"blank level0\" >&nbsp;</th>\n",
              "      <th id=\"T_25b52_level0_col0\" class=\"col_heading level0 col0\" >Rank</th>\n",
              "      <th id=\"T_25b52_level0_col1\" class=\"col_heading level0 col1\" >Cost of Living Index</th>\n",
              "      <th id=\"T_25b52_level0_col2\" class=\"col_heading level0 col2\" >Rent Index</th>\n",
              "      <th id=\"T_25b52_level0_col3\" class=\"col_heading level0 col3\" >Cost of Living Plus Rent Index</th>\n",
              "      <th id=\"T_25b52_level0_col4\" class=\"col_heading level0 col4\" >Groceries Index</th>\n",
              "      <th id=\"T_25b52_level0_col5\" class=\"col_heading level0 col5\" >Restaurant Price Index</th>\n",
              "      <th id=\"T_25b52_level0_col6\" class=\"col_heading level0 col6\" >Local Purchasing Power Index</th>\n",
              "    </tr>\n",
              "  </thead>\n",
              "  <tbody>\n",
              "    <tr>\n",
              "      <th id=\"T_25b52_level0_row0\" class=\"row_heading level0 row0\" >Rank</th>\n",
              "      <td id=\"T_25b52_row0_col0\" class=\"data row0 col0\" >1.000000</td>\n",
              "      <td id=\"T_25b52_row0_col1\" class=\"data row0 col1\" >-0.960000</td>\n",
              "      <td id=\"T_25b52_row0_col2\" class=\"data row0 col2\" >-0.770000</td>\n",
              "      <td id=\"T_25b52_row0_col3\" class=\"data row0 col3\" >-0.920000</td>\n",
              "      <td id=\"T_25b52_row0_col4\" class=\"data row0 col4\" >-0.900000</td>\n",
              "      <td id=\"T_25b52_row0_col5\" class=\"data row0 col5\" >-0.900000</td>\n",
              "      <td id=\"T_25b52_row0_col6\" class=\"data row0 col6\" >-0.690000</td>\n",
              "    </tr>\n",
              "    <tr>\n",
              "      <th id=\"T_25b52_level0_row1\" class=\"row_heading level0 row1\" >Cost of Living Index</th>\n",
              "      <td id=\"T_25b52_row1_col0\" class=\"data row1 col0\" >-0.960000</td>\n",
              "      <td id=\"T_25b52_row1_col1\" class=\"data row1 col1\" >1.000000</td>\n",
              "      <td id=\"T_25b52_row1_col2\" class=\"data row1 col2\" >0.820000</td>\n",
              "      <td id=\"T_25b52_row1_col3\" class=\"data row1 col3\" >0.970000</td>\n",
              "      <td id=\"T_25b52_row1_col4\" class=\"data row1 col4\" >0.960000</td>\n",
              "      <td id=\"T_25b52_row1_col5\" class=\"data row1 col5\" >0.950000</td>\n",
              "      <td id=\"T_25b52_row1_col6\" class=\"data row1 col6\" >0.690000</td>\n",
              "    </tr>\n",
              "    <tr>\n",
              "      <th id=\"T_25b52_level0_row2\" class=\"row_heading level0 row2\" >Rent Index</th>\n",
              "      <td id=\"T_25b52_row2_col0\" class=\"data row2 col0\" >-0.770000</td>\n",
              "      <td id=\"T_25b52_row2_col1\" class=\"data row2 col1\" >0.820000</td>\n",
              "      <td id=\"T_25b52_row2_col2\" class=\"data row2 col2\" >1.000000</td>\n",
              "      <td id=\"T_25b52_row2_col3\" class=\"data row2 col3\" >0.930000</td>\n",
              "      <td id=\"T_25b52_row2_col4\" class=\"data row2 col4\" >0.770000</td>\n",
              "      <td id=\"T_25b52_row2_col5\" class=\"data row2 col5\" >0.760000</td>\n",
              "      <td id=\"T_25b52_row2_col6\" class=\"data row2 col6\" >0.680000</td>\n",
              "    </tr>\n",
              "    <tr>\n",
              "      <th id=\"T_25b52_level0_row3\" class=\"row_heading level0 row3\" >Cost of Living Plus Rent Index</th>\n",
              "      <td id=\"T_25b52_row3_col0\" class=\"data row3 col0\" >-0.920000</td>\n",
              "      <td id=\"T_25b52_row3_col1\" class=\"data row3 col1\" >0.970000</td>\n",
              "      <td id=\"T_25b52_row3_col2\" class=\"data row3 col2\" >0.930000</td>\n",
              "      <td id=\"T_25b52_row3_col3\" class=\"data row3 col3\" >1.000000</td>\n",
              "      <td id=\"T_25b52_row3_col4\" class=\"data row3 col4\" >0.920000</td>\n",
              "      <td id=\"T_25b52_row3_col5\" class=\"data row3 col5\" >0.910000</td>\n",
              "      <td id=\"T_25b52_row3_col6\" class=\"data row3 col6\" >0.720000</td>\n",
              "    </tr>\n",
              "    <tr>\n",
              "      <th id=\"T_25b52_level0_row4\" class=\"row_heading level0 row4\" >Groceries Index</th>\n",
              "      <td id=\"T_25b52_row4_col0\" class=\"data row4 col0\" >-0.900000</td>\n",
              "      <td id=\"T_25b52_row4_col1\" class=\"data row4 col1\" >0.960000</td>\n",
              "      <td id=\"T_25b52_row4_col2\" class=\"data row4 col2\" >0.770000</td>\n",
              "      <td id=\"T_25b52_row4_col3\" class=\"data row4 col3\" >0.920000</td>\n",
              "      <td id=\"T_25b52_row4_col4\" class=\"data row4 col4\" >1.000000</td>\n",
              "      <td id=\"T_25b52_row4_col5\" class=\"data row4 col5\" >0.860000</td>\n",
              "      <td id=\"T_25b52_row4_col6\" class=\"data row4 col6\" >0.640000</td>\n",
              "    </tr>\n",
              "    <tr>\n",
              "      <th id=\"T_25b52_level0_row5\" class=\"row_heading level0 row5\" >Restaurant Price Index</th>\n",
              "      <td id=\"T_25b52_row5_col0\" class=\"data row5 col0\" >-0.900000</td>\n",
              "      <td id=\"T_25b52_row5_col1\" class=\"data row5 col1\" >0.950000</td>\n",
              "      <td id=\"T_25b52_row5_col2\" class=\"data row5 col2\" >0.760000</td>\n",
              "      <td id=\"T_25b52_row5_col3\" class=\"data row5 col3\" >0.910000</td>\n",
              "      <td id=\"T_25b52_row5_col4\" class=\"data row5 col4\" >0.860000</td>\n",
              "      <td id=\"T_25b52_row5_col5\" class=\"data row5 col5\" >1.000000</td>\n",
              "      <td id=\"T_25b52_row5_col6\" class=\"data row5 col6\" >0.670000</td>\n",
              "    </tr>\n",
              "    <tr>\n",
              "      <th id=\"T_25b52_level0_row6\" class=\"row_heading level0 row6\" >Local Purchasing Power Index</th>\n",
              "      <td id=\"T_25b52_row6_col0\" class=\"data row6 col0\" >-0.690000</td>\n",
              "      <td id=\"T_25b52_row6_col1\" class=\"data row6 col1\" >0.690000</td>\n",
              "      <td id=\"T_25b52_row6_col2\" class=\"data row6 col2\" >0.680000</td>\n",
              "      <td id=\"T_25b52_row6_col3\" class=\"data row6 col3\" >0.720000</td>\n",
              "      <td id=\"T_25b52_row6_col4\" class=\"data row6 col4\" >0.640000</td>\n",
              "      <td id=\"T_25b52_row6_col5\" class=\"data row6 col5\" >0.670000</td>\n",
              "      <td id=\"T_25b52_row6_col6\" class=\"data row6 col6\" >1.000000</td>\n",
              "    </tr>\n",
              "  </tbody>\n",
              "</table>\n"
            ]
          },
          "metadata": {},
          "execution_count": 7
        }
      ]
    },
    {
      "cell_type": "code",
      "source": [
        "corr_matrix_spearman.style.background_gradient() #Показывает монотонность взаимодействия"
      ],
      "metadata": {
        "colab": {
          "base_uri": "https://localhost:8080/",
          "height": 269
        },
        "id": "xZnIDevySsIg",
        "outputId": "481867e8-4192-4815-c5fa-ecf89f174d04"
      },
      "execution_count": null,
      "outputs": [
        {
          "output_type": "execute_result",
          "data": {
            "text/plain": [
              "<pandas.io.formats.style.Styler at 0x7ad18bf90f10>"
            ],
            "text/html": [
              "<style type=\"text/css\">\n",
              "#T_8733d_row0_col0, #T_8733d_row1_col1, #T_8733d_row2_col2, #T_8733d_row3_col3, #T_8733d_row4_col4, #T_8733d_row5_col5, #T_8733d_row6_col6 {\n",
              "  background-color: #023858;\n",
              "  color: #f1f1f1;\n",
              "}\n",
              "#T_8733d_row0_col1, #T_8733d_row0_col2, #T_8733d_row0_col3, #T_8733d_row0_col4, #T_8733d_row0_col5, #T_8733d_row0_col6, #T_8733d_row1_col0 {\n",
              "  background-color: #fff7fb;\n",
              "  color: #000000;\n",
              "}\n",
              "#T_8733d_row1_col2 {\n",
              "  background-color: #034a74;\n",
              "  color: #f1f1f1;\n",
              "}\n",
              "#T_8733d_row1_col3, #T_8733d_row3_col1 {\n",
              "  background-color: #023a5b;\n",
              "  color: #f1f1f1;\n",
              "}\n",
              "#T_8733d_row1_col4, #T_8733d_row4_col1 {\n",
              "  background-color: #023e62;\n",
              "  color: #f1f1f1;\n",
              "}\n",
              "#T_8733d_row1_col5, #T_8733d_row2_col3, #T_8733d_row3_col5, #T_8733d_row5_col1, #T_8733d_row5_col3 {\n",
              "  background-color: #023f64;\n",
              "  color: #f1f1f1;\n",
              "}\n",
              "#T_8733d_row1_col6, #T_8733d_row6_col2 {\n",
              "  background-color: #046299;\n",
              "  color: #f1f1f1;\n",
              "}\n",
              "#T_8733d_row2_col0 {\n",
              "  background-color: #f5eff6;\n",
              "  color: #000000;\n",
              "}\n",
              "#T_8733d_row2_col1 {\n",
              "  background-color: #034973;\n",
              "  color: #f1f1f1;\n",
              "}\n",
              "#T_8733d_row2_col4 {\n",
              "  background-color: #03517e;\n",
              "  color: #f1f1f1;\n",
              "}\n",
              "#T_8733d_row2_col5 {\n",
              "  background-color: #034b76;\n",
              "  color: #f1f1f1;\n",
              "}\n",
              "#T_8733d_row2_col6, #T_8733d_row5_col6, #T_8733d_row6_col4 {\n",
              "  background-color: #04649e;\n",
              "  color: #f1f1f1;\n",
              "}\n",
              "#T_8733d_row3_col0 {\n",
              "  background-color: #fef6fa;\n",
              "  color: #000000;\n",
              "}\n",
              "#T_8733d_row3_col2 {\n",
              "  background-color: #034165;\n",
              "  color: #f1f1f1;\n",
              "}\n",
              "#T_8733d_row3_col4, #T_8733d_row4_col3 {\n",
              "  background-color: #034267;\n",
              "  color: #f1f1f1;\n",
              "}\n",
              "#T_8733d_row3_col6 {\n",
              "  background-color: #046097;\n",
              "  color: #f1f1f1;\n",
              "}\n",
              "#T_8733d_row4_col0 {\n",
              "  background-color: #fbf4f9;\n",
              "  color: #000000;\n",
              "}\n",
              "#T_8733d_row4_col2 {\n",
              "  background-color: #045280;\n",
              "  color: #f1f1f1;\n",
              "}\n",
              "#T_8733d_row4_col5, #T_8733d_row5_col4 {\n",
              "  background-color: #034e7b;\n",
              "  color: #f1f1f1;\n",
              "}\n",
              "#T_8733d_row4_col6 {\n",
              "  background-color: #0569a4;\n",
              "  color: #f1f1f1;\n",
              "}\n",
              "#T_8733d_row5_col0 {\n",
              "  background-color: #fbf3f9;\n",
              "  color: #000000;\n",
              "}\n",
              "#T_8733d_row5_col2 {\n",
              "  background-color: #034c78;\n",
              "  color: #f1f1f1;\n",
              "}\n",
              "#T_8733d_row6_col0 {\n",
              "  background-color: #e7e3f0;\n",
              "  color: #000000;\n",
              "}\n",
              "#T_8733d_row6_col1 {\n",
              "  background-color: #045e93;\n",
              "  color: #f1f1f1;\n",
              "}\n",
              "#T_8733d_row6_col3 {\n",
              "  background-color: #045d92;\n",
              "  color: #f1f1f1;\n",
              "}\n",
              "#T_8733d_row6_col5 {\n",
              "  background-color: #046198;\n",
              "  color: #f1f1f1;\n",
              "}\n",
              "</style>\n",
              "<table id=\"T_8733d\" class=\"dataframe\">\n",
              "  <thead>\n",
              "    <tr>\n",
              "      <th class=\"blank level0\" >&nbsp;</th>\n",
              "      <th id=\"T_8733d_level0_col0\" class=\"col_heading level0 col0\" >Rank</th>\n",
              "      <th id=\"T_8733d_level0_col1\" class=\"col_heading level0 col1\" >Cost of Living Index</th>\n",
              "      <th id=\"T_8733d_level0_col2\" class=\"col_heading level0 col2\" >Rent Index</th>\n",
              "      <th id=\"T_8733d_level0_col3\" class=\"col_heading level0 col3\" >Cost of Living Plus Rent Index</th>\n",
              "      <th id=\"T_8733d_level0_col4\" class=\"col_heading level0 col4\" >Groceries Index</th>\n",
              "      <th id=\"T_8733d_level0_col5\" class=\"col_heading level0 col5\" >Restaurant Price Index</th>\n",
              "      <th id=\"T_8733d_level0_col6\" class=\"col_heading level0 col6\" >Local Purchasing Power Index</th>\n",
              "    </tr>\n",
              "  </thead>\n",
              "  <tbody>\n",
              "    <tr>\n",
              "      <th id=\"T_8733d_level0_row0\" class=\"row_heading level0 row0\" >Rank</th>\n",
              "      <td id=\"T_8733d_row0_col0\" class=\"data row0 col0\" >1.000000</td>\n",
              "      <td id=\"T_8733d_row0_col1\" class=\"data row0 col1\" >-1.000000</td>\n",
              "      <td id=\"T_8733d_row0_col2\" class=\"data row0 col2\" >-0.870000</td>\n",
              "      <td id=\"T_8733d_row0_col3\" class=\"data row0 col3\" >-0.980000</td>\n",
              "      <td id=\"T_8733d_row0_col4\" class=\"data row0 col4\" >-0.950000</td>\n",
              "      <td id=\"T_8733d_row0_col5\" class=\"data row0 col5\" >-0.940000</td>\n",
              "      <td id=\"T_8733d_row0_col6\" class=\"data row0 col6\" >-0.710000</td>\n",
              "    </tr>\n",
              "    <tr>\n",
              "      <th id=\"T_8733d_level0_row1\" class=\"row_heading level0 row1\" >Cost of Living Index</th>\n",
              "      <td id=\"T_8733d_row1_col0\" class=\"data row1 col0\" >-1.000000</td>\n",
              "      <td id=\"T_8733d_row1_col1\" class=\"data row1 col1\" >1.000000</td>\n",
              "      <td id=\"T_8733d_row1_col2\" class=\"data row1 col2\" >0.870000</td>\n",
              "      <td id=\"T_8733d_row1_col3\" class=\"data row1 col3\" >0.980000</td>\n",
              "      <td id=\"T_8733d_row1_col4\" class=\"data row1 col4\" >0.950000</td>\n",
              "      <td id=\"T_8733d_row1_col5\" class=\"data row1 col5\" >0.940000</td>\n",
              "      <td id=\"T_8733d_row1_col6\" class=\"data row1 col6\" >0.710000</td>\n",
              "    </tr>\n",
              "    <tr>\n",
              "      <th id=\"T_8733d_level0_row2\" class=\"row_heading level0 row2\" >Rent Index</th>\n",
              "      <td id=\"T_8733d_row2_col0\" class=\"data row2 col0\" >-0.870000</td>\n",
              "      <td id=\"T_8733d_row2_col1\" class=\"data row2 col1\" >0.870000</td>\n",
              "      <td id=\"T_8733d_row2_col2\" class=\"data row2 col2\" >1.000000</td>\n",
              "      <td id=\"T_8733d_row2_col3\" class=\"data row2 col3\" >0.940000</td>\n",
              "      <td id=\"T_8733d_row2_col4\" class=\"data row2 col4\" >0.820000</td>\n",
              "      <td id=\"T_8733d_row2_col5\" class=\"data row2 col5\" >0.860000</td>\n",
              "      <td id=\"T_8733d_row2_col6\" class=\"data row2 col6\" >0.680000</td>\n",
              "    </tr>\n",
              "    <tr>\n",
              "      <th id=\"T_8733d_level0_row3\" class=\"row_heading level0 row3\" >Cost of Living Plus Rent Index</th>\n",
              "      <td id=\"T_8733d_row3_col0\" class=\"data row3 col0\" >-0.980000</td>\n",
              "      <td id=\"T_8733d_row3_col1\" class=\"data row3 col1\" >0.980000</td>\n",
              "      <td id=\"T_8733d_row3_col2\" class=\"data row3 col2\" >0.940000</td>\n",
              "      <td id=\"T_8733d_row3_col3\" class=\"data row3 col3\" >1.000000</td>\n",
              "      <td id=\"T_8733d_row3_col4\" class=\"data row3 col4\" >0.930000</td>\n",
              "      <td id=\"T_8733d_row3_col5\" class=\"data row3 col5\" >0.940000</td>\n",
              "      <td id=\"T_8733d_row3_col6\" class=\"data row3 col6\" >0.720000</td>\n",
              "    </tr>\n",
              "    <tr>\n",
              "      <th id=\"T_8733d_level0_row4\" class=\"row_heading level0 row4\" >Groceries Index</th>\n",
              "      <td id=\"T_8733d_row4_col0\" class=\"data row4 col0\" >-0.950000</td>\n",
              "      <td id=\"T_8733d_row4_col1\" class=\"data row4 col1\" >0.950000</td>\n",
              "      <td id=\"T_8733d_row4_col2\" class=\"data row4 col2\" >0.820000</td>\n",
              "      <td id=\"T_8733d_row4_col3\" class=\"data row4 col3\" >0.930000</td>\n",
              "      <td id=\"T_8733d_row4_col4\" class=\"data row4 col4\" >1.000000</td>\n",
              "      <td id=\"T_8733d_row4_col5\" class=\"data row4 col5\" >0.840000</td>\n",
              "      <td id=\"T_8733d_row4_col6\" class=\"data row4 col6\" >0.640000</td>\n",
              "    </tr>\n",
              "    <tr>\n",
              "      <th id=\"T_8733d_level0_row5\" class=\"row_heading level0 row5\" >Restaurant Price Index</th>\n",
              "      <td id=\"T_8733d_row5_col0\" class=\"data row5 col0\" >-0.940000</td>\n",
              "      <td id=\"T_8733d_row5_col1\" class=\"data row5 col1\" >0.940000</td>\n",
              "      <td id=\"T_8733d_row5_col2\" class=\"data row5 col2\" >0.860000</td>\n",
              "      <td id=\"T_8733d_row5_col3\" class=\"data row5 col3\" >0.940000</td>\n",
              "      <td id=\"T_8733d_row5_col4\" class=\"data row5 col4\" >0.840000</td>\n",
              "      <td id=\"T_8733d_row5_col5\" class=\"data row5 col5\" >1.000000</td>\n",
              "      <td id=\"T_8733d_row5_col6\" class=\"data row5 col6\" >0.680000</td>\n",
              "    </tr>\n",
              "    <tr>\n",
              "      <th id=\"T_8733d_level0_row6\" class=\"row_heading level0 row6\" >Local Purchasing Power Index</th>\n",
              "      <td id=\"T_8733d_row6_col0\" class=\"data row6 col0\" >-0.710000</td>\n",
              "      <td id=\"T_8733d_row6_col1\" class=\"data row6 col1\" >0.710000</td>\n",
              "      <td id=\"T_8733d_row6_col2\" class=\"data row6 col2\" >0.680000</td>\n",
              "      <td id=\"T_8733d_row6_col3\" class=\"data row6 col3\" >0.720000</td>\n",
              "      <td id=\"T_8733d_row6_col4\" class=\"data row6 col4\" >0.640000</td>\n",
              "      <td id=\"T_8733d_row6_col5\" class=\"data row6 col5\" >0.680000</td>\n",
              "      <td id=\"T_8733d_row6_col6\" class=\"data row6 col6\" >1.000000</td>\n",
              "    </tr>\n",
              "  </tbody>\n",
              "</table>\n"
            ]
          },
          "metadata": {},
          "execution_count": 8
        }
      ]
    },
    {
      "cell_type": "code",
      "source": [
        "corr_matrix_pearson_abs_with_inf_diag = abs(corr_matrix_pearson)\n",
        "np.fill_diagonal(corr_matrix_pearson_abs_with_inf_diag.values, 1000)"
      ],
      "metadata": {
        "id": "iEGKDbiVUvne"
      },
      "execution_count": null,
      "outputs": []
    },
    {
      "cell_type": "code",
      "source": [
        "corr_matrix_pearson_abs_with_inf_diag.style.background_gradient()"
      ],
      "metadata": {
        "colab": {
          "base_uri": "https://localhost:8080/",
          "height": 269
        },
        "id": "ZU_EpGquYFE8",
        "outputId": "8358800e-b3db-4971-ea12-6a4d60415bd0"
      },
      "execution_count": null,
      "outputs": [
        {
          "output_type": "execute_result",
          "data": {
            "text/plain": [
              "<pandas.io.formats.style.Styler at 0x7ad18bed3100>"
            ],
            "text/html": [
              "<style type=\"text/css\">\n",
              "#T_94bb5_row0_col0, #T_94bb5_row1_col1, #T_94bb5_row2_col2, #T_94bb5_row3_col3, #T_94bb5_row4_col4, #T_94bb5_row5_col5, #T_94bb5_row6_col6 {\n",
              "  background-color: #023858;\n",
              "  color: #f1f1f1;\n",
              "}\n",
              "#T_94bb5_row0_col1, #T_94bb5_row0_col2, #T_94bb5_row0_col3, #T_94bb5_row0_col4, #T_94bb5_row0_col5, #T_94bb5_row0_col6, #T_94bb5_row1_col0, #T_94bb5_row1_col2, #T_94bb5_row1_col3, #T_94bb5_row1_col4, #T_94bb5_row1_col5, #T_94bb5_row1_col6, #T_94bb5_row2_col0, #T_94bb5_row2_col1, #T_94bb5_row2_col3, #T_94bb5_row2_col4, #T_94bb5_row2_col5, #T_94bb5_row2_col6, #T_94bb5_row3_col0, #T_94bb5_row3_col1, #T_94bb5_row3_col2, #T_94bb5_row3_col4, #T_94bb5_row3_col5, #T_94bb5_row3_col6, #T_94bb5_row4_col0, #T_94bb5_row4_col1, #T_94bb5_row4_col2, #T_94bb5_row4_col3, #T_94bb5_row4_col5, #T_94bb5_row4_col6, #T_94bb5_row5_col0, #T_94bb5_row5_col1, #T_94bb5_row5_col2, #T_94bb5_row5_col3, #T_94bb5_row5_col4, #T_94bb5_row5_col6, #T_94bb5_row6_col0, #T_94bb5_row6_col1, #T_94bb5_row6_col2, #T_94bb5_row6_col3, #T_94bb5_row6_col4, #T_94bb5_row6_col5 {\n",
              "  background-color: #fff7fb;\n",
              "  color: #000000;\n",
              "}\n",
              "</style>\n",
              "<table id=\"T_94bb5\" class=\"dataframe\">\n",
              "  <thead>\n",
              "    <tr>\n",
              "      <th class=\"blank level0\" >&nbsp;</th>\n",
              "      <th id=\"T_94bb5_level0_col0\" class=\"col_heading level0 col0\" >Rank</th>\n",
              "      <th id=\"T_94bb5_level0_col1\" class=\"col_heading level0 col1\" >Cost of Living Index</th>\n",
              "      <th id=\"T_94bb5_level0_col2\" class=\"col_heading level0 col2\" >Rent Index</th>\n",
              "      <th id=\"T_94bb5_level0_col3\" class=\"col_heading level0 col3\" >Cost of Living Plus Rent Index</th>\n",
              "      <th id=\"T_94bb5_level0_col4\" class=\"col_heading level0 col4\" >Groceries Index</th>\n",
              "      <th id=\"T_94bb5_level0_col5\" class=\"col_heading level0 col5\" >Restaurant Price Index</th>\n",
              "      <th id=\"T_94bb5_level0_col6\" class=\"col_heading level0 col6\" >Local Purchasing Power Index</th>\n",
              "    </tr>\n",
              "  </thead>\n",
              "  <tbody>\n",
              "    <tr>\n",
              "      <th id=\"T_94bb5_level0_row0\" class=\"row_heading level0 row0\" >Rank</th>\n",
              "      <td id=\"T_94bb5_row0_col0\" class=\"data row0 col0\" >1000.000000</td>\n",
              "      <td id=\"T_94bb5_row0_col1\" class=\"data row0 col1\" >0.960000</td>\n",
              "      <td id=\"T_94bb5_row0_col2\" class=\"data row0 col2\" >0.770000</td>\n",
              "      <td id=\"T_94bb5_row0_col3\" class=\"data row0 col3\" >0.920000</td>\n",
              "      <td id=\"T_94bb5_row0_col4\" class=\"data row0 col4\" >0.900000</td>\n",
              "      <td id=\"T_94bb5_row0_col5\" class=\"data row0 col5\" >0.900000</td>\n",
              "      <td id=\"T_94bb5_row0_col6\" class=\"data row0 col6\" >0.690000</td>\n",
              "    </tr>\n",
              "    <tr>\n",
              "      <th id=\"T_94bb5_level0_row1\" class=\"row_heading level0 row1\" >Cost of Living Index</th>\n",
              "      <td id=\"T_94bb5_row1_col0\" class=\"data row1 col0\" >0.960000</td>\n",
              "      <td id=\"T_94bb5_row1_col1\" class=\"data row1 col1\" >1000.000000</td>\n",
              "      <td id=\"T_94bb5_row1_col2\" class=\"data row1 col2\" >0.820000</td>\n",
              "      <td id=\"T_94bb5_row1_col3\" class=\"data row1 col3\" >0.970000</td>\n",
              "      <td id=\"T_94bb5_row1_col4\" class=\"data row1 col4\" >0.960000</td>\n",
              "      <td id=\"T_94bb5_row1_col5\" class=\"data row1 col5\" >0.950000</td>\n",
              "      <td id=\"T_94bb5_row1_col6\" class=\"data row1 col6\" >0.690000</td>\n",
              "    </tr>\n",
              "    <tr>\n",
              "      <th id=\"T_94bb5_level0_row2\" class=\"row_heading level0 row2\" >Rent Index</th>\n",
              "      <td id=\"T_94bb5_row2_col0\" class=\"data row2 col0\" >0.770000</td>\n",
              "      <td id=\"T_94bb5_row2_col1\" class=\"data row2 col1\" >0.820000</td>\n",
              "      <td id=\"T_94bb5_row2_col2\" class=\"data row2 col2\" >1000.000000</td>\n",
              "      <td id=\"T_94bb5_row2_col3\" class=\"data row2 col3\" >0.930000</td>\n",
              "      <td id=\"T_94bb5_row2_col4\" class=\"data row2 col4\" >0.770000</td>\n",
              "      <td id=\"T_94bb5_row2_col5\" class=\"data row2 col5\" >0.760000</td>\n",
              "      <td id=\"T_94bb5_row2_col6\" class=\"data row2 col6\" >0.680000</td>\n",
              "    </tr>\n",
              "    <tr>\n",
              "      <th id=\"T_94bb5_level0_row3\" class=\"row_heading level0 row3\" >Cost of Living Plus Rent Index</th>\n",
              "      <td id=\"T_94bb5_row3_col0\" class=\"data row3 col0\" >0.920000</td>\n",
              "      <td id=\"T_94bb5_row3_col1\" class=\"data row3 col1\" >0.970000</td>\n",
              "      <td id=\"T_94bb5_row3_col2\" class=\"data row3 col2\" >0.930000</td>\n",
              "      <td id=\"T_94bb5_row3_col3\" class=\"data row3 col3\" >1000.000000</td>\n",
              "      <td id=\"T_94bb5_row3_col4\" class=\"data row3 col4\" >0.920000</td>\n",
              "      <td id=\"T_94bb5_row3_col5\" class=\"data row3 col5\" >0.910000</td>\n",
              "      <td id=\"T_94bb5_row3_col6\" class=\"data row3 col6\" >0.720000</td>\n",
              "    </tr>\n",
              "    <tr>\n",
              "      <th id=\"T_94bb5_level0_row4\" class=\"row_heading level0 row4\" >Groceries Index</th>\n",
              "      <td id=\"T_94bb5_row4_col0\" class=\"data row4 col0\" >0.900000</td>\n",
              "      <td id=\"T_94bb5_row4_col1\" class=\"data row4 col1\" >0.960000</td>\n",
              "      <td id=\"T_94bb5_row4_col2\" class=\"data row4 col2\" >0.770000</td>\n",
              "      <td id=\"T_94bb5_row4_col3\" class=\"data row4 col3\" >0.920000</td>\n",
              "      <td id=\"T_94bb5_row4_col4\" class=\"data row4 col4\" >1000.000000</td>\n",
              "      <td id=\"T_94bb5_row4_col5\" class=\"data row4 col5\" >0.860000</td>\n",
              "      <td id=\"T_94bb5_row4_col6\" class=\"data row4 col6\" >0.640000</td>\n",
              "    </tr>\n",
              "    <tr>\n",
              "      <th id=\"T_94bb5_level0_row5\" class=\"row_heading level0 row5\" >Restaurant Price Index</th>\n",
              "      <td id=\"T_94bb5_row5_col0\" class=\"data row5 col0\" >0.900000</td>\n",
              "      <td id=\"T_94bb5_row5_col1\" class=\"data row5 col1\" >0.950000</td>\n",
              "      <td id=\"T_94bb5_row5_col2\" class=\"data row5 col2\" >0.760000</td>\n",
              "      <td id=\"T_94bb5_row5_col3\" class=\"data row5 col3\" >0.910000</td>\n",
              "      <td id=\"T_94bb5_row5_col4\" class=\"data row5 col4\" >0.860000</td>\n",
              "      <td id=\"T_94bb5_row5_col5\" class=\"data row5 col5\" >1000.000000</td>\n",
              "      <td id=\"T_94bb5_row5_col6\" class=\"data row5 col6\" >0.670000</td>\n",
              "    </tr>\n",
              "    <tr>\n",
              "      <th id=\"T_94bb5_level0_row6\" class=\"row_heading level0 row6\" >Local Purchasing Power Index</th>\n",
              "      <td id=\"T_94bb5_row6_col0\" class=\"data row6 col0\" >0.690000</td>\n",
              "      <td id=\"T_94bb5_row6_col1\" class=\"data row6 col1\" >0.690000</td>\n",
              "      <td id=\"T_94bb5_row6_col2\" class=\"data row6 col2\" >0.680000</td>\n",
              "      <td id=\"T_94bb5_row6_col3\" class=\"data row6 col3\" >0.720000</td>\n",
              "      <td id=\"T_94bb5_row6_col4\" class=\"data row6 col4\" >0.640000</td>\n",
              "      <td id=\"T_94bb5_row6_col5\" class=\"data row6 col5\" >0.670000</td>\n",
              "      <td id=\"T_94bb5_row6_col6\" class=\"data row6 col6\" >1000.000000</td>\n",
              "    </tr>\n",
              "  </tbody>\n",
              "</table>\n"
            ]
          },
          "metadata": {},
          "execution_count": 10
        }
      ]
    },
    {
      "cell_type": "code",
      "source": [
        "min_corr = np.min(corr_matrix_pearson_abs_with_inf_diag)\n",
        "print(f'Пара признаков с миниммальной корреляцией: {corr_matrix_pearson_abs_with_inf_diag[corr_matrix_pearson_abs_with_inf_diag.values == min_corr].index}')\n",
        "print(f'Значение минимальной корреляции: {min_corr}')"
      ],
      "metadata": {
        "colab": {
          "base_uri": "https://localhost:8080/"
        },
        "id": "PvMYrRsEYM4U",
        "outputId": "86610323-70c4-4dd7-bde6-159a097e6ec1"
      },
      "execution_count": null,
      "outputs": [
        {
          "output_type": "stream",
          "name": "stdout",
          "text": [
            "Пара признаков с миниммальной корреляцией: Index(['Groceries Index', 'Local Purchasing Power Index'], dtype='object')\n",
            "Значение минимальной корреляции: 0.64\n"
          ]
        }
      ]
    },
    {
      "cell_type": "code",
      "source": [
        "corr_matrix_pearson_abs_with_minus_inf_diag = abs(corr_matrix_pearson)\n",
        "np.fill_diagonal(corr_matrix_pearson_abs_with_minus_inf_diag.values, -1000)"
      ],
      "metadata": {
        "id": "CNC-M4O4b4cn"
      },
      "execution_count": null,
      "outputs": []
    },
    {
      "cell_type": "code",
      "source": [
        "max_corr = np.max(corr_matrix_pearson_abs_with_minus_inf_diag)\n",
        "print(f'Пара признаков с максимальной корреляцией: {corr_matrix_pearson_abs_with_inf_diag[corr_matrix_pearson_abs_with_minus_inf_diag.values == max_corr].index}')\n",
        "print(f'Значение максимальной корреляции: {max_corr}')"
      ],
      "metadata": {
        "colab": {
          "base_uri": "https://localhost:8080/"
        },
        "id": "hz3HAtiDb-ri",
        "outputId": "4eb83bbf-f78b-4705-f402-d1e999c0c481"
      },
      "execution_count": null,
      "outputs": [
        {
          "output_type": "stream",
          "name": "stdout",
          "text": [
            "Пара признаков с максимальной корреляцией: Index(['Cost of Living Index', 'Cost of Living Plus Rent Index'], dtype='object')\n",
            "Значение максимальной корреляции: 0.97\n"
          ]
        }
      ]
    },
    {
      "cell_type": "markdown",
      "source": [
        "Шаг 3: Построение графиков зависимостей. Выберите два признака с\n",
        "сильной корреляцией. Замените на реальные названия признаков из вашего\n",
        "датасета. Постройте диаграмму рассеяния (scatter plot) и добавьте линию\n",
        "регрессии.\n",
        "\n"
      ],
      "metadata": {
        "id": "rDhOTzNkdVhC"
      }
    },
    {
      "cell_type": "code",
      "source": [
        "x = data['Cost of Living Index']\n",
        "y = data['Cost of Living Plus Rent Index']\n",
        "plt.scatter(x, y)\n",
        "a, b = np.polyfit(x, y, deg=1)\n",
        "print(a, b)\n",
        "plt.plot(x, b + a * x, color=\"k\", lw=2.5)\n",
        "plt.grid()\n",
        "plt.xlabel('Cost of Living Index')\n",
        "plt.ylabel('Cost of Living Plus Rent Index')\n",
        "plt.show()"
      ],
      "metadata": {
        "colab": {
          "base_uri": "https://localhost:8080/",
          "height": 466
        },
        "id": "5yZPEPK2dYxi",
        "outputId": "f1f6c354-f372-4a9c-9dcd-96b5ce2dd5cd"
      },
      "execution_count": null,
      "outputs": [
        {
          "output_type": "stream",
          "name": "stdout",
          "text": [
            "0.798226652188574 -4.409207457555565\n"
          ]
        },
        {
          "output_type": "display_data",
          "data": {
            "text/plain": [
              "<Figure size 640x480 with 1 Axes>"
            ],
            "image/png": "[encoded data removed]"
          },
          "metadata": {}
        }
      ]
    },
    {
      "cell_type": "markdown",
      "source": [
        "Шаг 4: Подготовка данных. Нормализуйте данные, чтобы привести все\n",
        "признаки к одному масштабу, используя стандартное масштабирование.\n",
        "Разделите данные на обучающую и тестовую выборки в пропорции 80/20."
      ],
      "metadata": {
        "id": "zY5Rw1bCHCEt"
      }
    },
    {
      "cell_type": "code",
      "source": [
        "from sklearn.model_selection import train_test_split\n",
        "from sklearn.preprocessing import StandardScaler"
      ],
      "metadata": {
        "id": "07RIKuFeHEdW"
      },
      "execution_count": null,
      "outputs": []
    },
    {
      "cell_type": "code",
      "source": [
        "x = data.select_dtypes(include=\"number\").iloc[:, 1:]\n",
        "y = data.select_dtypes(include=\"number\").iloc[:, 0]\n",
        "std_scaler = StandardScaler()\n",
        "x_scaled = std_scaler.fit_transform(x)"
      ],
      "metadata": {
        "id": "8UhOZssVIDPt"
      },
      "execution_count": null,
      "outputs": []
    },
    {
      "cell_type": "markdown",
      "source": [
        "Разбили на параметры и целевую переменную, отмасштабировали параметры"
      ],
      "metadata": {
        "id": "Dr5xR-n8ZCUs"
      }
    },
    {
      "cell_type": "code",
      "source": [
        "x_train, x_test, y_train, y_test = train_test_split(x_scaled, y, test_size=0.2, random_state=2024-9-13)"
      ],
      "metadata": {
        "id": "ET_VYwywIj0V"
      },
      "execution_count": null,
      "outputs": []
    },
    {
      "cell_type": "code",
      "source": [
        "print(x_train.shape[0], x_test.shape[0], x_test.shape[0]/x_train.shape[0])"
      ],
      "metadata": {
        "colab": {
          "base_uri": "https://localhost:8080/"
        },
        "id": "v6XzqdUxJqOF",
        "outputId": "ac729d08-aeef-4af4-ea8e-935bf3b6401c"
      },
      "execution_count": null,
      "outputs": [
        {
          "output_type": "stream",
          "name": "stdout",
          "text": [
            "96 25 0.2604166666666667\n"
          ]
        }
      ]
    },
    {
      "cell_type": "markdown",
      "source": [
        "Шаг 5: Визуализация трендов. Используйте модель линейной регрессии\n",
        "для предсказания и постройте график распределения ошибок между\n",
        "предсказанными и реальными значениями. Постройте график ошибок\n",
        "(выбросов), чтобы оценить точность модели."
      ],
      "metadata": {
        "id": "7PcIoeWMJ68L"
      }
    },
    {
      "cell_type": "code",
      "source": [
        "from sklearn.linear_model import LinearRegression"
      ],
      "metadata": {
        "id": "UoFdyz1YJ6r1"
      },
      "execution_count": null,
      "outputs": []
    },
    {
      "cell_type": "code",
      "source": [
        "lin_reg = LinearRegression()\n",
        "lin_reg.fit(x_train, y_train)\n",
        "print(x.columns)\n",
        "print(lin_reg.coef_)\n",
        "predict = lin_reg.predict(x_test)"
      ],
      "metadata": {
        "colab": {
          "base_uri": "https://localhost:8080/"
        },
        "id": "LRYcnLQEKM_1",
        "outputId": "99ff4996-5e30-4da0-fa7f-8b8b5c6fff73"
      },
      "execution_count": null,
      "outputs": [
        {
          "output_type": "stream",
          "name": "stdout",
          "text": [
            "Index(['Cost of Living Index', 'Rent Index', 'Cost of Living Plus Rent Index',\n",
            "       'Groceries Index', 'Restaurant Price Index',\n",
            "       'Local Purchasing Power Index'],\n",
            "      dtype='object')\n",
            "[ 383.01711619  289.44334648 -697.71005779   17.68369601    9.19709542\n",
            "   -1.15523043]\n"
          ]
        }
      ]
    },
    {
      "cell_type": "markdown",
      "source": [
        "Натренировали линейную модель, посмотрели на коэффициенты, можно сделать вывод, что наиболее важными являются 'Cost of Living Index', 'Rent Index', 'Cost of Living Plus Rent Index'"
      ],
      "metadata": {
        "id": "tKBfv3rATolM"
      }
    },
    {
      "cell_type": "code",
      "source": [
        "from sklearn.metrics import mean_absolute_percentage_error, r2_score, mean_absolute_error"
      ],
      "metadata": {
        "id": "XXXIZ9jvNZmz"
      },
      "execution_count": null,
      "outputs": []
    },
    {
      "cell_type": "code",
      "source": [
        "mape = mean_absolute_percentage_error(y_test, predict)\n",
        "r2 = r2_score(y_test, predict)\n",
        "mae = mean_absolute_error(y_test, predict)\n",
        "\n",
        "print(f\"Средняя абсолютная процентная ошибка (MAPE): {mape*100}\")\n",
        "print(f\"Средняя абсолютная ошибка (MAE): {mae}\")\n",
        "print(f\"Коэффициент детерминации (R^2): {r2}\")"
      ],
      "metadata": {
        "colab": {
          "base_uri": "https://localhost:8080/"
        },
        "id": "8wfQd7v2NQxV",
        "outputId": "9d530186-51b0-4e6b-a26f-b5eb803eb457"
      },
      "execution_count": null,
      "outputs": [
        {
          "output_type": "stream",
          "name": "stdout",
          "text": [
            "Средняя абсолютная процентная ошибка (MAPE): 32.93227064439447\n",
            "Средняя абсолютная ошибка (MAE): 8.037323545309178\n",
            "Коэффициент детерминации (R^2): 0.9344909017549624\n"
          ]
        }
      ]
    },
    {
      "cell_type": "markdown",
      "source": [
        "Посмотрели метрики качества модели"
      ],
      "metadata": {
        "id": "n4D0mipNT2Aj"
      }
    },
    {
      "cell_type": "code",
      "source": [
        "import seaborn as sns"
      ],
      "metadata": {
        "id": "UsjHJQhXXyf0"
      },
      "execution_count": null,
      "outputs": []
    },
    {
      "cell_type": "code",
      "source": [
        "sns.residplot(y = y_test-predict, x = predict, data = None)\n",
        "plt.ylabel(\"остатки\")\n",
        "plt.xlabel(\"Предсказанные значения\")\n",
        "plt.title(\"График остатков\")\n",
        "plt.grid()\n",
        "plt.show()"
      ],
      "metadata": {
        "colab": {
          "base_uri": "https://localhost:8080/",
          "height": 472
        },
        "id": "bWBVHxTUX3er",
        "outputId": "6b8815a4-eeab-485e-d94e-8e0110667fbd"
      },
      "execution_count": null,
      "outputs": [
        {
          "output_type": "display_data",
          "data": {
            "text/plain": [
              "<Figure size 640x480 with 1 Axes>"
            ],
            "image/png": "[encoded data removed]"
          },
          "metadata": {}
        }
      ]
    },
    {
      "cell_type": "code",
      "source": [
        "plt.scatter(y_test, predict)\n",
        "plt.xlabel(\"Реальные значения\")\n",
        "plt.ylabel(\"Предсказанные значения\")\n",
        "plt.title(\"График ошибок\")\n",
        "plt.plot(y_test, y_test)\n",
        "plt.grid()\n",
        "plt.show()"
      ],
      "metadata": {
        "colab": {
          "base_uri": "https://localhost:8080/",
          "height": 472
        },
        "id": "bCSOwYR6NBjM",
        "outputId": "008d6021-96dc-4518-ba70-fc14f1e94795"
      },
      "execution_count": null,
      "outputs": [
        {
          "output_type": "display_data",
          "data": {
            "text/plain": [
              "<Figure size 640x480 with 1 Axes>"
            ],
            "image/png": "[encoded data removed]"
          },
          "metadata": {}
        }
      ]
    },
    {
      "cell_type": "markdown",
      "source": [
        "Нетрудно заметить, что коэффициент детерминации равен 0.93 и это вроде бы должно быть хорошо. Но метрика MAPE (средняя разница между прогнозируемым значением и фактическим значением) составляет 33%, что указывает на среднюю способность линейной модели к предсказанию значений."
      ],
      "metadata": {
        "id": "3ya8-ZL8S8cN"
      }
    },
    {
      "cell_type": "markdown",
      "source": [
        "Шаг 6: Ответьте на вопросы. Как изменение одного признака влияет на\n",
        "другой? Как влияет масштабирование данных на качество модели?"
      ],
      "metadata": {
        "id": "7clBhSLVPCJF"
      }
    },
    {
      "cell_type": "markdown",
      "source": [
        "1. Как изменение одного признака влияет на другой? Ответ: Всё зависит от корреляции между этими признаками. Если по модулю корреляция большая, то изменение одного признака будет существенно влиять на изменение другого и наоборот.\n",
        "2. Как влияет масштабирование данных на качество модели? Ответ: Приведение признаков к одному масштабу важно для многих\n",
        "алгоритмов, таких как линейная регрессия, метод k-ближайших соседей и\n",
        "нейронные сети, поскольку они чувствительны к масштабам признаков.\n",
        "Например, если один признак имеет диапазон значений от 0 до 1, а другой —\n",
        "от 0 до 1000, алгоритм может неправильно оценивать значимость признаков."
      ],
      "metadata": {
        "id": "093VrOT-PFwM"
      }
    }
  ]
}